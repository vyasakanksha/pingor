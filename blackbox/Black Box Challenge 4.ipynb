{
 "cells": [
  {
   "cell_type": "code",
   "execution_count": 2,
   "metadata": {},
   "outputs": [
    {
     "data": {
      "text/plain": [
       "'4.2.0'"
      ]
     },
     "execution_count": 2,
     "metadata": {},
     "output_type": "execute_result"
    }
   ],
   "source": [
    "from blackbox import blackboxscore\n",
    "import cv2\n",
    "import glob\n",
    "\n",
    "cv2.__version__"
   ]
  },
  {
   "cell_type": "code",
   "execution_count": 3,
   "metadata": {},
   "outputs": [
    {
     "name": "stdout",
     "output_type": "stream",
     "text": [
      "['orangeball/frame-0.jpg', 'orangeball/frame-1.jpg', 'orangeball/frame-10.jpg', 'orangeball/frame-11.jpg', 'orangeball/frame-12.jpg', 'orangeball/frame-13.jpg', 'orangeball/frame-14.jpg', 'orangeball/frame-15.jpg', 'orangeball/frame-16.jpg', 'orangeball/frame-17.jpg', 'orangeball/frame-18.jpg', 'orangeball/frame-19.jpg', 'orangeball/frame-20.jpg', 'orangeball/frame-21.jpg', 'orangeball/frame-22.jpg', 'orangeball/frame-23.jpg', 'orangeball/frame-3.jpg', 'orangeball/frame-4.jpg', 'orangeball/frame-5.jpg', 'orangeball/frame-6.jpg', 'orangeball/frame-7.jpg', 'orangeball/frame-8.jpg', 'orangeball/frame-9.jpg']\n"
     ]
    }
   ],
   "source": [
    "DATA_DIRECTORY = \"orangeball\" \n",
    "\n",
    "flist = glob.glob(DATA_DIRECTORY+\"/*\")\n",
    "flist.sort()\n",
    "print(flist)"
   ]
  },
  {
   "cell_type": "code",
   "execution_count": 4,
   "metadata": {},
   "outputs": [
    {
     "data": {
      "text/plain": [
       "0.08695652173913043"
      ]
     },
     "execution_count": 4,
     "metadata": {},
     "output_type": "execute_result"
    }
   ],
   "source": [
    "#Just an example. The score can get much higher than this!\n",
    "blackboxscore(flist,(0, 150, 200),(60, 230, 255),sample=-1)"
   ]
  },
  {
   "cell_type": "code",
   "execution_count": 5,
   "metadata": {},
   "outputs": [
    {
     "data": {
      "text/plain": [
       "0.0"
      ]
     },
     "execution_count": 5,
     "metadata": {},
     "output_type": "execute_result"
    }
   ],
   "source": [
    "#With random sampling. Note that the score will change everytime you run this. \n",
    "blackboxscore(flist,(0, 150, 200),(60, 230, 255),sample=10)"
   ]
  },
  {
   "cell_type": "markdown",
   "metadata": {},
   "source": [
    "import random\n",
    "import time\n",
    "\n",
    "scoresdict = {}\n",
    "scores = []\n",
    "v1 = []\n",
    "v1diff = []\n",
    "\n",
    "for k in range(10):\n",
    "    t = time.process_time()\n",
    "    for v11 in range(0, 50):\n",
    "        v12 = random.randint(0, 195)\n",
    "        vdiff = random.randint(10, 60)\n",
    "        v12 = v11 + vdiff\n",
    "        for i in range(0,255,65):\n",
    "            v21 = random.randint(0+i,65+i)\n",
    "            s = blackboxscore(flist,(v11, v21, 0),(v12, 255, 255),sample=10)\n",
    "            if s > 0:\n",
    "                v1.append(v11)\n",
    "                scores.append(s)     \n",
    "                \n",
    "   print(max(scores))\n",
    "   print(time.process_time() - t)\n"
   ]
  },
  {
   "cell_type": "code",
   "execution_count": null,
   "metadata": {},
   "outputs": [],
   "source": []
  },
  {
   "cell_type": "code",
   "execution_count": null,
   "metadata": {},
   "outputs": [],
   "source": []
  }
 ],
 "metadata": {
  "kernelspec": {
   "display_name": "Python 3",
   "language": "python",
   "name": "python3"
  },
  "language_info": {
   "codemirror_mode": {
    "name": "ipython",
    "version": 3
   },
   "file_extension": ".py",
   "mimetype": "text/x-python",
   "name": "python",
   "nbconvert_exporter": "python",
   "pygments_lexer": "ipython3",
   "version": "3.7.4"
  }
 },
 "nbformat": 4,
 "nbformat_minor": 4
}
